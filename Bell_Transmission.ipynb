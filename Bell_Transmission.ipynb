{
 "cells": [
  {
   "cell_type": "markdown",
   "metadata": {},
   "source": [
    "# Secure transmission of information using Bell states\n",
    "### *Authors: Tanay Roy, Ankur Agrawal, Ziqian Li*\n",
    "Here we demonstrate how to send classical information securely by using superdense coding with Bell states. In this scheme, Alice and Bob share a Bell state where Alice keeps one qubit. She performs local operations on her qubit to encode 2 bits of information and sends the qubits to Bob. Bob performs measurement in the Bell basis to extract the information deterministically. This transmission is secure since no information can be obtained by stealing the qubit to be transmitted. Apart from being secure, this method also enhances the channel capacity by a factor of 2/1=2."
   ]
  },
  {
   "cell_type": "markdown",
   "metadata": {},
   "source": [
    "We transmit two different kinds of messages - a grayscale picture and an alphanumeric text."
   ]
  },
  {
   "cell_type": "code",
   "execution_count": 1,
   "metadata": {},
   "outputs": [
    {
     "data": {
      "text/plain": [
       "<AccountProvider for IBMQ(hub='ibm-q', group='open', project='main')>"
      ]
     },
     "execution_count": 1,
     "metadata": {},
     "output_type": "execute_result"
    }
   ],
   "source": [
    "import matplotlib\n",
    "import numpy as np\n",
    "import matplotlib.pyplot as plt\n",
    "import matplotlib.image as mpimg\n",
    "from numpy import pi\n",
    "from random import randint\n",
    "from collections import Counter\n",
    "from PIL import Image as img\n",
    "\n",
    "%matplotlib inline\n",
    "\n",
    "from qiskit import QuantumCircuit, BasicAer, Aer, execute, IBMQ\n",
    "from qiskit.compiler import transpile\n",
    "from qiskit.quantum_info.operators import Operator\n",
    "from qiskit.quantum_info import partial_trace\n",
    "from qiskit.visualization import plot_histogram, plot_state_city\n",
    "from qiskit.tools.monitor import job_monitor\n",
    "\n",
    "IBMQ.load_account()"
   ]
  },
  {
   "cell_type": "code",
   "execution_count": 2,
   "metadata": {},
   "outputs": [],
   "source": [
    "simulator = Aer.get_backend('qasm_simulator')\n",
    "sv_simulator = BasicAer.get_backend('statevector_simulator')\n",
    "provider = IBMQ.get_provider('ibm-q')\n",
    "qcomp = provider.get_backend('ibmq_ourense')"
   ]
  },
  {
   "cell_type": "markdown",
   "metadata": {},
   "source": [
    "## Functions related to secure transmission using two Bell pairs"
   ]
  },
  {
   "cell_type": "code",
   "execution_count": 3,
   "metadata": {},
   "outputs": [],
   "source": [
    "def Bell_state(qc, qubits=[0,1]):\n",
    "    '''Prepares Bell state'''\n",
    "    qc.h(qubits[0])\n",
    "    qc.cx(qubits[0],qubits[1])\n",
    "\n",
    "def Bell_basis_transform(qc, qubits=[0,1]):\n",
    "    qc.cx(qubits[0],qubits[1])\n",
    "    qc.h(qubits[0])\n",
    "    \n",
    "def encode_2bits_in_Bell(qc, data=0, qubits=[0,1]):\n",
    "    if data == 1:\n",
    "        qc.z(qubits[0])\n",
    "    if data == 2:\n",
    "        qc.x(qubits[0])\n",
    "    if data == 3:\n",
    "        qc.x(qubits[0])\n",
    "        qc.z(qubits[0])\n",
    "    \n",
    "def encode_4bits_in_2Bell(qc, data=0, Bell1=[0,1], Bell2=[2,3]):\n",
    "    left_bits = data//4\n",
    "    right_bits = data%4\n",
    "    \n",
    "    encode_2bits_in_Bell(qc, data=right_bits, qubits=Bell1)\n",
    "    encode_2bits_in_Bell(qc, data=left_bits, qubits=Bell2)\n",
    "        \n",
    "        \n",
    "def transmit_2Bell_data_arr(data_arr=[0,1], qubits=[0,1,2,3], backend=simulator, shots=1, monitor=True):\n",
    "    ''' Can transmit [0,...,15] using two Bell pairs'''\n",
    "    \n",
    "    circuit_list = []\n",
    "    for data in data_arr:\n",
    "        \n",
    "        qc = QuantumCircuit(max(qubits)+1,4)\n",
    "        Bell_state(qc, qubits=qubits[0:2])\n",
    "        Bell_state(qc, qubits=qubits[2:4])\n",
    "        \n",
    "        encode_4bits_in_2Bell(qc, data=data, Bell1=qubits[0:2], Bell2=qubits[2:4])\n",
    "        Bell_basis_transform(qc, qubits=qubits[0:2])\n",
    "        Bell_basis_transform(qc, qubits=qubits[2:4])\n",
    "        \n",
    "        qc.measure(qubits, [0,1,2,3])\n",
    "\n",
    "        circuit_list.extend([qc])\n",
    "        \n",
    "    # Execute on quantum hardware\n",
    "    job_2Bell = execute(circuit_list, backend = backend, shots=shots)\n",
    "    if monitor: job_monitor(job_2Bell)\n",
    "    \n",
    "    return job_2Bell.result()\n",
    "\n",
    "\n",
    "def analyze_2Bell_result(results):\n",
    "    # Assumes single output: shots = 1\n",
    "    data_out = []\n",
    "    for result in results.get_counts():\n",
    "        for state,count in result.items():\n",
    "            data_out.append(int(state, 2))\n",
    "             \n",
    "    return data_out\n",
    "\n",
    "\n",
    "def transmit_2Bell_long_data(data_1d_2d, qubits=[0,1,2,3], backend=simulator, shots=1, monitor=True, max_data_per_run=75):\n",
    "    \n",
    "    data_1d_2d = np.array(data_1d_2d)\n",
    "    is2d = False\n",
    "    if len(data_1d_2d.shape) == 2:\n",
    "        is2d = True\n",
    "        rows, cols = data_1d_2d.shape\n",
    "    data_1d_2d = data_1d_2d.flatten()\n",
    "    \n",
    "    data_len = len(data_1d_2d)\n",
    "    runs = data_len//max_data_per_run\n",
    "    remainder = data_len%max_data_per_run\n",
    "    \n",
    "    data_out = []\n",
    "    for ii in range(runs):\n",
    "        data_arr = data_1d_2d[ii*max_data_per_run:(ii+1)*max_data_per_run]\n",
    "        results = transmit_2Bell_data_arr(data_arr, qubits=qubits, backend=backend, shots=shots, monitor=monitor)\n",
    "        data_out.extend(analyze_2Bell_result(results))\n",
    "        \n",
    "    if remainder > 0:\n",
    "        data_arr = data_1d_2d[-remainder:]\n",
    "        results = transmit_2Bell_data_arr(data_arr, qubits=qubits, backend=backend, shots=shots, monitor=monitor)\n",
    "        data_out.extend(analyze_2Bell_result(results))\n",
    "        \n",
    "    data_out = np.array(data_out)\n",
    "    if is2d: data_out = data_out.reshape(rows,cols)\n",
    "    return data_out\n",
    "    \n",
    "\n",
    "def check_final_state_vector(qc):\n",
    "    state_result = execute(qc, backend=sv_simulator).result()\n",
    "    return chop(state_result.get_statevector(qc))\n",
    "\n",
    "\n",
    "def find_majority(votes):\n",
    "    vote_count = Counter(votes)\n",
    "    top_two = vote_count.most_common(2)\n",
    "    if len(top_two)>1 and top_two[0][1] == top_two[1][1]:\n",
    "        # It is a tie\n",
    "        return -1\n",
    "    return top_two[0][0]\n",
    "\n",
    "\n",
    "def find_majority_arr(int_1d_arr_arr, bits=4):\n",
    "    int_1d_arr_arr = np.transpose(int_1d_arr_arr)\n",
    "    maj_int_1d_arr = []\n",
    "    for int_1d_arr in int_1d_arr_arr:\n",
    "        # First convert integer 1d array to binary 2d array and tranpose\n",
    "        bin_2d_arr = np.transpose([list(format(ii,'b').zfill(bits)) for ii in int_1d_arr])\n",
    "        maj_bin_arr = []\n",
    "        for bin_arr in bin_2d_arr:\n",
    "            maj_bin_arr.extend(find_majority(bin_arr))\n",
    "            \n",
    "        maj = int(\"\".join(maj_bin_arr),2) # Binary string to integer\n",
    "        maj_int_1d_arr.append(maj)        \n",
    "        \n",
    "    return maj_int_1d_arr\n",
    "\n",
    "\n",
    "def check_success_rate(data_in, data_out):\n",
    "    correct_count = np.sum(np.multiply(np.array(data_in)==np.array(data_out),1))\n",
    "    print(\"Success = %s/%s = %s %%\" %(correct_count,data_in.size,correct_count/data_in.size*100))"
   ]
  },
  {
   "cell_type": "markdown",
   "metadata": {},
   "source": [
    "## Explicit quantum circuit for transmission using two Bell pairs"
   ]
  },
  {
   "cell_type": "code",
   "execution_count": 5,
   "metadata": {},
   "outputs": [
    {
     "name": "stdout",
     "output_type": "stream",
     "text": [
      "Output bitstring: {'1110': 1}\n"
     ]
    },
    {
     "data": {
      "image/png": "[encoded data removed]",
      "text/plain": [
       "<Figure size 960.792x325.08 with 1 Axes>"
      ]
     },
     "execution_count": 5,
     "metadata": {},
     "output_type": "execute_result"
    }
   ],
   "source": [
    "val = 14 # data to be transmitted. Binary(14): '1110'\n",
    "\n",
    "qubits= [0,1,2,3]\n",
    "qc = QuantumCircuit(max(qubits)+1,4)\n",
    "# === Prepare two Bell pairs === #\n",
    "Bell_state(qc, qubits=qubits[0:2])\n",
    "Bell_state(qc, qubits=qubits[2:4])\n",
    "# === Alice keeps q0,q2 and Bob keeps q1,q3 === #\n",
    "qc.barrier(qubits)\n",
    "\n",
    "# === Alice encodes information by applying local operations on q0 and q2 === #\n",
    "encode_4bits_in_2Bell(qc, data=val, Bell1=qubits[0:2], Bell2=qubits[2:4])\n",
    "# === Alice send q0 and q2 to Bob === #\n",
    "qc.barrier(qubits)\n",
    "\n",
    "# === Bob applies gates to perform measurement on Bell basis === #\n",
    "Bell_basis_transform(qc, qubits=qubits[0:2])\n",
    "Bell_basis_transform(qc, qubits=qubits[2:4])\n",
    "qc.barrier(qubits)\n",
    "# === Bob performs measurement to recover information (in binary) === #\n",
    "qc.measure(qubits, [0,1,2,3])\n",
    "job_2Bell = execute(qc, backend = simulator, shots=1)\n",
    "\n",
    "print(\"Output bitstring:\", job_2Bell.result().get_counts())\n",
    "qc.draw('mpl') # Draw the quantum circuit"
   ]
  },
  {
   "cell_type": "markdown",
   "metadata": {},
   "source": [
    "The above circuit shows that Alice can transmit 4 bits of classical information by performing local operations (X and Z gates) on her two qubits (q0 and q2) and sending those to Bob. Thus the channel capacity enhancement is 4/2 = 2. This transmission is secure since all the information is encoded in the correlation and no information can be obtained by measuring the qubits transmitted by Alice alone."
   ]
  },
  {
   "cell_type": "markdown",
   "metadata": {},
   "source": [
    "# Part 1: Image transmission"
   ]
  },
  {
   "cell_type": "markdown",
   "metadata": {},
   "source": [
    "## Functions related to image processing"
   ]
  },
  {
   "cell_type": "code",
   "execution_count": 4,
   "metadata": {},
   "outputs": [],
   "source": [
    "def resize_image(file_in, x_pixels=20, y_pixels=20, file_out=None):\n",
    "    image = img.open(file_in)\n",
    "    new_image = image.resize((x_pixels, y_pixels))\n",
    "    if file_out is not None:\n",
    "        new_image.save(file_out)\n",
    "    print(\"Input size: %s, Output size: %s\" %(image.size, new_image.size))\n",
    "\n",
    "    \n",
    "def convert_to_gray(file_in, file_out=None):\n",
    "    \n",
    "    def rgb2gray(rgb):\n",
    "        return np.dot(rgb[...,:3], [0.2989, 0.5870, 0.1140])\n",
    "\n",
    "    image = mpimg.imread(file_in) \n",
    "    gray = rgb2gray(image)\n",
    "    plt.imshow(gray, cmap=plt.get_cmap('gray'), vmin=0, vmax=max(gray.flatten()))\n",
    "    if file_out is not None: plt.savefig(file_out)\n",
    "    return gray\n",
    "\n",
    "\n",
    "def change_resolution_grayscale_arr(gray_arr, bit_res=4):\n",
    "    # Use max and min of data to set the full scale\n",
    "    gray_arr = gray_arr - min(gray_arr.flatten())\n",
    "    gray_arr = gray_arr/max(gray_arr.flatten())\n",
    "    res = 2**bit_res - 1\n",
    "    gray_new = np.round(gray_arr * res)\n",
    "    return gray_new.astype(int)\n",
    "\n",
    "\n",
    "def plot_gray_2d_arr(gray_2d_arr):\n",
    "    plt.imshow(gray_2d_arr, cmap=plt.get_cmap('gray'), vmin=0, vmax=max(gray_2d_arr.flatten()))\n"
   ]
  },
  {
   "cell_type": "markdown",
   "metadata": {},
   "source": [
    "### Step 1: Choose a color image (40 X 40 pixels)"
   ]
  },
  {
   "cell_type": "code",
   "execution_count": 10,
   "metadata": {},
   "outputs": [
    {
     "data": {
      "image/png": "[encoded data removed]",
      "text/plain": [
       "<Figure size 432x288 with 1 Axes>"
      ]
     },
     "metadata": {
      "needs_background": "light"
     },
     "output_type": "display_data"
    }
   ],
   "source": [
    "plt.imshow(img.open('happy_small.png'))\n",
    "plt.show()"
   ]
  },
  {
   "cell_type": "markdown",
   "metadata": {},
   "source": [
    "### Step 2: Convert the image into grayscale with 4 bit resolution"
   ]
  },
  {
   "cell_type": "code",
   "execution_count": 31,
   "metadata": {},
   "outputs": [
    {
     "data": {
      "image/png": "[encoded data removed]",
      "text/plain": [
       "<Figure size 432x288 with 1 Axes>"
      ]
     },
     "metadata": {
      "needs_background": "light"
     },
     "output_type": "display_data"
    }
   ],
   "source": [
    "plot_gray_2d_arr(gray_2d_arr)"
   ]
  },
  {
   "cell_type": "code",
   "execution_count": 5,
   "metadata": {},
   "outputs": [
    {
     "name": "stdout",
     "output_type": "stream",
     "text": [
      "This is the image to be transmitted securely\n"
     ]
    },
    {
     "data": {
      "image/png": "[encoded data removed]",
      "text/plain": [
       "<Figure size 432x288 with 1 Axes>"
      ]
     },
     "metadata": {
      "needs_background": "light"
     },
     "output_type": "display_data"
    }
   ],
   "source": [
    "gray_2d_arr = convert_to_gray('happy_small.png')\n",
    "pic_40_40 = change_resolution_grayscale_arr(gray_2d_arr, bit_res=4)\n",
    "plot_gray_2d_arr(pic_40_40)\n",
    "print(\"This is the image to be transmitted securely\")"
   ]
  },
  {
   "cell_type": "code",
   "execution_count": 19,
   "metadata": {},
   "outputs": [
    {
     "name": "stdout",
     "output_type": "stream",
     "text": [
      "20th row: [15 15 15 15 15 11 12 11 10  0  0  0  0 10 10 10 10 10  0  0  0  0  0 11\n",
      " 11 11 11 11 10 11 12 11 15 15 15 15 15 15 15 15]\n",
      "Max=15, min=0\n"
     ]
    }
   ],
   "source": [
    "# Check that all elements are within 0--15\n",
    "print(\"20th row:\", pic_40_40[20])\n",
    "print(\"Max=%s, min=%s\" %(max(pic_40_40.flatten()), min(pic_40_40.flatten())))"
   ]
  },
  {
   "cell_type": "markdown",
   "metadata": {},
   "source": [
    "Essentially, Alice is going to transmit 40\\*40=1600 4-bit numbers = 6400 bits of classical informatino using 3200 qubits."
   ]
  },
  {
   "cell_type": "markdown",
   "metadata": {},
   "source": [
    "### Step 3: Check the performance using the simulator first"
   ]
  },
  {
   "cell_type": "code",
   "execution_count": 23,
   "metadata": {},
   "outputs": [
    {
     "name": "stdout",
     "output_type": "stream",
     "text": [
      "Success = 1600/1600 = 100.0 %\n"
     ]
    },
    {
     "data": {
      "image/png": "[encoded data removed]",
      "text/plain": [
       "<Figure size 432x288 with 1 Axes>"
      ]
     },
     "metadata": {
      "needs_background": "light"
     },
     "output_type": "display_data"
    }
   ],
   "source": [
    "data_in = pic_40_40\n",
    "data_out = transmit_2Bell_long_data(data_in, qubits=[0,1,2,3], backend = simulator, monitor=False)\n",
    "\n",
    "check_success_rate(data_in, data_out)\n",
    "plot_gray_2d_arr(data_out)"
   ]
  },
  {
   "cell_type": "markdown",
   "metadata": {},
   "source": [
    "Of course, an ideal simulator works 100% of the times"
   ]
  },
  {
   "attachments": {
    "image.png": {
     "image/png": "[encoded data removed]"
    }
   },
   "cell_type": "markdown",
   "metadata": {},
   "source": [
    "### Step 4: Perform the experiment on a real quantum hardware\n",
    "We have selected the \"ibmq_ourense\" processor, which seem to have the best performace. It is a 5-qubit processor as shown below. We have used qubits 1,2,3, and 4.\n",
    "![image.png](attachment:image.png)"
   ]
  },
  {
   "cell_type": "markdown",
   "metadata": {},
   "source": [
    "#### Run 1"
   ]
  },
  {
   "cell_type": "code",
   "execution_count": 29,
   "metadata": {
    "scrolled": false
   },
   "outputs": [
    {
     "name": "stdout",
     "output_type": "stream",
     "text": [
      "Job Status: job has successfully run\n",
      "Job Status: job has successfully run\n",
      "Job Status: job has successfully run\n",
      "Job Status: job has successfully run\n",
      "Job Status: job has successfully run\n",
      "Job Status: job has successfully run\n",
      "Job Status: job has successfully run\n",
      "Job Status: job has successfully run\n",
      "Job Status: job has successfully run\n",
      "Job Status: job has successfully run\n",
      "Job Status: job has successfully run\n",
      "Job Status: job has successfully run\n",
      "Job Status: job has successfully run\n",
      "Job Status: job has successfully run\n",
      "Job Status: job has successfully run\n",
      "Job Status: job has successfully run\n",
      "Job Status: job has successfully run\n",
      "Job Status: job has successfully run\n",
      "Job Status: job has successfully run\n",
      "Job Status: job has successfully run\n",
      "Job Status: job has successfully run\n",
      "Job Status: job has successfully run\n",
      "Success = 884/1600 = 55.25 %\n"
     ]
    },
    {
     "data": {
      "image/png": "[encoded data removed]",
      "text/plain": [
       "<Figure size 432x288 with 1 Axes>"
      ]
     },
     "metadata": {
      "needs_background": "light"
     },
     "output_type": "display_data"
    }
   ],
   "source": [
    "happy_data_out1 = transmit_2Bell_long_data(data_in, qubits=[2,1,3,4], backend = qcomp, monitor=True)\n",
    "\n",
    "check_success_rate(pic_40_40, happy_data_out1)\n",
    "plot_gray_2d_arr(happy_data_out1)"
   ]
  },
  {
   "cell_type": "markdown",
   "metadata": {},
   "source": [
    "#### Run 2"
   ]
  },
  {
   "cell_type": "code",
   "execution_count": 27,
   "metadata": {},
   "outputs": [
    {
     "name": "stdout",
     "output_type": "stream",
     "text": [
      "Success = 854/1600 = 53.37499999999999 %\n"
     ]
    },
    {
     "data": {
      "image/png": "[encoded data removed]",
      "text/plain": [
       "<Figure size 432x288 with 1 Axes>"
      ]
     },
     "metadata": {
      "needs_background": "light"
     },
     "output_type": "display_data"
    }
   ],
   "source": [
    "happy_data_out2 = transmit_2Bell_long_data(data_in, qubits=[2,1,3,4], backend = qcomp, monitor=False)\n",
    "\n",
    "check_success_rate(pic_40_40, happy_data_out2)\n",
    "plot_gray_2d_arr(happy_data_out2)"
   ]
  },
  {
   "cell_type": "markdown",
   "metadata": {},
   "source": [
    "#### Run 3"
   ]
  },
  {
   "cell_type": "code",
   "execution_count": 28,
   "metadata": {},
   "outputs": [
    {
     "name": "stdout",
     "output_type": "stream",
     "text": [
      "Success = 930/1600 = 58.12500000000001 %\n"
     ]
    },
    {
     "data": {
      "image/png": "[encoded data removed]",
      "text/plain": [
       "<Figure size 432x288 with 1 Axes>"
      ]
     },
     "metadata": {
      "needs_background": "light"
     },
     "output_type": "display_data"
    }
   ],
   "source": [
    "happy_data_out3 = transmit_2Bell_long_data(data_in, qubits=[2,1,3,4], backend = qcomp, monitor=False)\n",
    "\n",
    "check_success_rate(pic_40_40, happy_data_out3)\n",
    "plot_gray_2d_arr(happy_data_out3)"
   ]
  },
  {
   "cell_type": "markdown",
   "metadata": {},
   "source": [
    "#### Run 4"
   ]
  },
  {
   "cell_type": "code",
   "execution_count": 30,
   "metadata": {},
   "outputs": [
    {
     "name": "stdout",
     "output_type": "stream",
     "text": [
      "Success = 860/1600 = 53.75 %\n"
     ]
    },
    {
     "data": {
      "image/png": "[encoded data removed]",
      "text/plain": [
       "<Figure size 432x288 with 1 Axes>"
      ]
     },
     "metadata": {
      "needs_background": "light"
     },
     "output_type": "display_data"
    }
   ],
   "source": [
    "happy_data_out4 = transmit_2Bell_long_data(data_in, qubits=[2,1,3,4], backend = qcomp, monitor=False)\n",
    "\n",
    "check_success_rate(pic_40_40, happy_data_out4)\n",
    "plot_gray_2d_arr(happy_data_out4)"
   ]
  },
  {
   "cell_type": "markdown",
   "metadata": {},
   "source": [
    "#### Run 5"
   ]
  },
  {
   "cell_type": "code",
   "execution_count": 31,
   "metadata": {},
   "outputs": [
    {
     "name": "stdout",
     "output_type": "stream",
     "text": [
      "Success = 832/1600 = 52.0 %\n"
     ]
    },
    {
     "data": {
      "image/png": "[encoded data removed]",
      "text/plain": [
       "<Figure size 432x288 with 1 Axes>"
      ]
     },
     "metadata": {
      "needs_background": "light"
     },
     "output_type": "display_data"
    }
   ],
   "source": [
    "happy_data_out5 = transmit_2Bell_long_data(data_in, qubits=[2,1,3,4], backend = qcomp, monitor=False)\n",
    "\n",
    "check_success_rate(pic_40_40, happy_data_out5)\n",
    "plot_gray_2d_arr(happy_data_out5)"
   ]
  },
  {
   "cell_type": "markdown",
   "metadata": {},
   "source": [
    "##### The average transmission success rate (after 5 runs) = 54.5%"
   ]
  },
  {
   "cell_type": "markdown",
   "metadata": {},
   "source": [
    "### Step 5: Classical error-correction using majority vote"
   ]
  },
  {
   "cell_type": "code",
   "execution_count": 36,
   "metadata": {},
   "outputs": [
    {
     "name": "stdout",
     "output_type": "stream",
     "text": [
      "Using majority vote of 3 runs\n",
      "Success = 1232/1600 = 77.0 %\n"
     ]
    },
    {
     "data": {
      "image/png": "[encoded data removed]",
      "text/plain": [
       "<Figure size 432x288 with 1 Axes>"
      ]
     },
     "metadata": {
      "needs_background": "light"
     },
     "output_type": "display_data"
    }
   ],
   "source": [
    "# Majority vote using 3 runs\n",
    "data1 = happy_data_out1.flatten()\n",
    "data2 = happy_data_out2.flatten()\n",
    "data3 = happy_data_out3.flatten()\n",
    "maj_data_out = find_majority_arr([data1,data2,data3], bits=4)\n",
    "\n",
    "maj_data_out = np.array(maj_data_out).reshape(40,40)\n",
    "print(\"Using majority vote of 3 runs\")\n",
    "check_success_rate(pic_40_40, maj_data_out)\n",
    "plot_gray_2d_arr(maj_data_out)"
   ]
  },
  {
   "cell_type": "code",
   "execution_count": 38,
   "metadata": {},
   "outputs": [
    {
     "name": "stdout",
     "output_type": "stream",
     "text": [
      "Using majority vote of 5 runs\n",
      "Success = 1380/1600 = 86.25 %\n"
     ]
    },
    {
     "data": {
      "image/png": "[encoded data removed]",
      "text/plain": [
       "<Figure size 432x288 with 1 Axes>"
      ]
     },
     "metadata": {
      "needs_background": "light"
     },
     "output_type": "display_data"
    }
   ],
   "source": [
    "# Majority vote using 5 runs\n",
    "data4 = happy_data_out4.flatten()\n",
    "data5 = happy_data_out5.flatten()\n",
    "maj_data_out = find_majority_arr([data1,data2,data3,data4,data5], bits=4)\n",
    "\n",
    "maj_data_out = np.array(maj_data_out).reshape(40,40)\n",
    "print(\"Using majority vote of 5 runs\")\n",
    "check_success_rate(pic_40_40, maj_data_out)\n",
    "plot_gray_2d_arr(maj_data_out)"
   ]
  },
  {
   "cell_type": "markdown",
   "metadata": {},
   "source": [
    "# Part 2: Text message transmission"
   ]
  },
  {
   "cell_type": "code",
   "execution_count": 7,
   "metadata": {},
   "outputs": [],
   "source": [
    "# Import functions related to conversion of text to binary message\n",
    "try:\n",
    "    import RS \n",
    "except:\n",
    "    !jupyter nbconvert --to python RS.ipynb\n",
    "    import RS\n",
    "    \n",
    "def check_success_rate_string(string_in, string_out):\n",
    "    print(\"Original message:\", string_in)\n",
    "    print(\"Received message:\", string_out)\n",
    "    correct_count = np.sum(np.multiply([x==y for x,y in zip(list(string_in),list(string_out))],1))\n",
    "    print(\"Success rate = %s/%s = %s %%\" %(correct_count,len(string_in),correct_count/len(string_in)*100))\n",
    "    \n",
    "transmission_type = 0 # 0 for Bell state, 1 for GHZ state\n",
    "is_picture = 0 # 0 is no, 1 is yes"
   ]
  },
  {
   "cell_type": "markdown",
   "metadata": {},
   "source": [
    "### Step 1: Convert input text message to arrays of 4 bits\n",
    "*Text message*: We Love Qiskit Summer Jam 2020."
   ]
  },
  {
   "cell_type": "code",
   "execution_count": 8,
   "metadata": {},
   "outputs": [],
   "source": [
    "message = 'We Love Qiskit Summer Jam 2020.' # input message\n",
    "package, parity = RS.transmitting(message, transmission_type, is_picture) # Encoding the text message into arrays of 4 bits"
   ]
  },
  {
   "cell_type": "markdown",
   "metadata": {},
   "source": [
    "### Step 2: Check the performance using the simulator first"
   ]
  },
  {
   "cell_type": "code",
   "execution_count": 9,
   "metadata": {},
   "outputs": [
    {
     "name": "stdout",
     "output_type": "stream",
     "text": [
      "Original message: We Love Qiskit Summer Jam 2020.\n",
      "Received message: We Love Qiskit Summer Jam 2020.\n",
      "Success rate = 31/31 = 100.0 %\n"
     ]
    }
   ],
   "source": [
    "package_out = transmit_2Bell_long_data(package, qubits=[2,1,3,4], backend = simulator, monitor=False)\n",
    "\n",
    "msg_received = RS.receiving(package_out, transmission_type, is_picture, parity) # Decode received package\n",
    "check_success_rate_string(message, msg_received)"
   ]
  },
  {
   "cell_type": "markdown",
   "metadata": {},
   "source": [
    "### Step 3: Check the performance on the quantum hardware: \"ibmq_ourense\""
   ]
  },
  {
   "cell_type": "markdown",
   "metadata": {},
   "source": [
    "#### Run 1"
   ]
  },
  {
   "cell_type": "code",
   "execution_count": 10,
   "metadata": {},
   "outputs": [
    {
     "name": "stdout",
     "output_type": "stream",
     "text": [
      "Job Status: job has successfully run\n",
      "Original message: We Love Qiskit Summer Jam 2020.\n",
      "Received message: we!Lofe 1:smIt0Sum}i6%JiI 3020.\n",
      "Success rate = 16/31 = 51.61290322580645 %\n"
     ]
    }
   ],
   "source": [
    "package_out1 = transmit_2Bell_long_data(package, qubits=[0,1,3,4], backend = qcomp, monitor=True)\n",
    "\n",
    "msg_received = RS.receiving(package_out1, transmission_type, is_picture, parity) # Decode received package\n",
    "check_success_rate_string(message, msg_received)"
   ]
  },
  {
   "cell_type": "markdown",
   "metadata": {},
   "source": [
    "#### Run 2"
   ]
  },
  {
   "cell_type": "code",
   "execution_count": 21,
   "metadata": {},
   "outputs": [
    {
     "name": "stdout",
     "output_type": "stream",
     "text": [
      "Job Status: job has successfully run\n",
      "Original message: We Love Qiskit Summer Jam 2020.\n",
      "Received message: W% Lk\u0016e Qhsoid \u0017w}mur B M \"02 6\n",
      "Success rate = 15/31 = 48.38709677419355 %\n"
     ]
    }
   ],
   "source": [
    "package_out2 = transmit_2Bell_long_data(package, qubits=[1,2,3,4], backend = qcomp, monitor=True)\n",
    "\n",
    "msg_received = RS.receiving(package_out2, transmission_type, is_picture, parity) # Decode received package\n",
    "check_success_rate_string(message, msg_received)"
   ]
  },
  {
   "cell_type": "markdown",
   "metadata": {},
   "source": [
    "#### Run 3"
   ]
  },
  {
   "cell_type": "code",
   "execution_count": 26,
   "metadata": {},
   "outputs": [
    {
     "name": "stdout",
     "output_type": "stream",
     "text": [
      "Job Status: job has successfully run\n",
      "Original message: We Love Qiskit Summer Jam 2020.\n",
      "ve`Ais+it Su}er0Zei :00\u0010.\n",
      "Success rate = 15/31 = 48.38709677419355 %\n"
     ]
    }
   ],
   "source": [
    "package_out3 = transmit_2Bell_long_data(package, qubits=[1,2,3,4], backend = qcomp, monitor=True)\n",
    "\n",
    "msg_received = RS.receiving(package_out3, transmission_type, is_picture, parity) # Decode received package\n",
    "check_success_rate_string(message, msg_received)"
   ]
  },
  {
   "cell_type": "markdown",
   "metadata": {},
   "source": [
    "#### Run 4"
   ]
  },
  {
   "cell_type": "code",
   "execution_count": 13,
   "metadata": {},
   "outputs": [
    {
     "name": "stdout",
     "output_type": "stream",
     "text": [
      "Job Status: job has successfully run\n",
      "Original message: We Love Qiskit Summer Jam 2020.\n",
      "Received message: \u0017! Hgfe QhQkiD\u0000RumE`b J`! 002 &\n",
      "Success rate = 13/31 = 41.935483870967744 %\n"
     ]
    }
   ],
   "source": [
    "package_out4 = transmit_2Bell_long_data(package, qubits=[1,2,3,4], backend = qcomp, monitor=True)\n",
    "\n",
    "msg_received = RS.receiving(package_out4, transmission_type, is_picture, parity) # Decode received package\n",
    "check_success_rate_string(message, msg_received)"
   ]
  },
  {
   "cell_type": "markdown",
   "metadata": {},
   "source": [
    "#### Run 5"
   ]
  },
  {
   "cell_type": "code",
   "execution_count": 14,
   "metadata": {},
   "outputs": [
    {
     "name": "stdout",
     "output_type": "stream",
     "text": [
      "Job Status: job has successfully run\n",
      "Original message: We Love Qiskit Summer Jam 2020.\n",
      "Received message: ;e Lowe0QhscId Summer0JiM0\u001a0:0.\n",
      "Success rate = 18/31 = 58.06451612903226 %\n"
     ]
    }
   ],
   "source": [
    "package_out5 = transmit_2Bell_long_data(package, qubits=[1,2,3,4], backend = qcomp, monitor=True)\n",
    "\n",
    "msg_received = RS.receiving(package_out5, transmission_type, is_picture, parity) # Decode received package\n",
    "check_success_rate_string(message, msg_received)"
   ]
  },
  {
   "cell_type": "markdown",
   "metadata": {},
   "source": [
    "##### The average transmission success rate (after 5 runs) = 49.7%"
   ]
  },
  {
   "cell_type": "markdown",
   "metadata": {},
   "source": [
    "### Step 5: Classical error-correction using majority vote"
   ]
  },
  {
   "cell_type": "code",
   "execution_count": 27,
   "metadata": {},
   "outputs": [
    {
     "name": "stdout",
     "output_type": "stream",
     "text": [
      "Using majority vote of 3 runs\n",
      "Original message: We Love Qiskit Summer Jam 2020.\n",
      "Received message: We Love Qhsoit Su}}er JaI 2020.\n",
      "Success rate = 26/31 = 83.87096774193549 %\n"
     ]
    }
   ],
   "source": [
    "# Majority vote using 3 runs\n",
    "maj_data_out = find_majority_arr([package_out1,package_out2,package_out3], bits=4)\n",
    "\n",
    "msg_received = RS.receiving(maj_data_out, transmission_type, is_picture, parity) # Decode received package\n",
    "print(\"Using majority vote of 3 runs\")\n",
    "check_success_rate_string(message, msg_received)"
   ]
  },
  {
   "cell_type": "code",
   "execution_count": 29,
   "metadata": {},
   "outputs": [
    {
     "name": "stdout",
     "output_type": "stream",
     "text": [
      "Using majority vote of 5 runs\n",
      "Original message: We Love Qiskit Summer Jam 2020.\n",
      "Received message: \u0017e Love Qhskid Summer JaI 2020.\n",
      "Success rate = 27/31 = 87.09677419354838 %\n"
     ]
    }
   ],
   "source": [
    "# Majority vote using 5 runs\n",
    "maj_data_out = find_majority_arr([package_out1,package_out2,package_out3,package_out4,package_out5], bits=4)\n",
    "\n",
    "msg_received = RS.receiving(maj_data_out, transmission_type, is_picture, parity) # Decode received package\n",
    "print(\"Using majority vote of 5 runs\")\n",
    "check_success_rate_string(message, msg_received)"
   ]
  }
 ],
 "metadata": {
  "kernelspec": {
   "display_name": "Python 3",
   "language": "python",
   "name": "python3"
  },
  "language_info": {
   "codemirror_mode": {
    "name": "ipython",
    "version": 3
   },
   "file_extension": ".py",
   "mimetype": "text/x-python",
   "name": "python",
   "nbconvert_exporter": "python",
   "pygments_lexer": "ipython3",
   "version": "3.7.3"
  }
 },
 "nbformat": 4,
 "nbformat_minor": 2
}
